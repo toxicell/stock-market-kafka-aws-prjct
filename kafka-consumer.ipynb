{
 "cells": [
  {
   "cell_type": "code",
   "execution_count": 15,
   "id": "ea66ac71-b24e-4474-bbbb-9229fd3d235a",
   "metadata": {},
   "outputs": [],
   "source": [
    "import pandas as pd \n",
    "from kafka import  KafkaConsumer\n",
    "from time import sleep \n",
    "from json import dumps , loads\n",
    "import json \n",
    "from s3fs import S3FileSystem"
   ]
  },
  {
   "cell_type": "code",
   "execution_count": 16,
   "id": "f3c63332-4d8c-45d8-8e64-8a0ed04b59bc",
   "metadata": {},
   "outputs": [],
   "source": [
    "consumer = KafkaConsumer('demo_test',\n",
    "                         bootstrap_servers=['54.146.250.97:9092'],\n",
    "                        value_deserializer=lambda x: loads(x.decode('utf-8')))"
   ]
  },
  {
   "cell_type": "code",
   "execution_count": 17,
   "id": "7c82058d-aaad-4a14-85ec-06526cc59e16",
   "metadata": {},
   "outputs": [],
   "source": [
    "s3 = S3FileSystem()"
   ]
  },
  {
   "cell_type": "code",
   "execution_count": null,
   "id": "7bb20263-ce7c-4f55-8f7d-3c8f18eaa1cd",
   "metadata": {},
   "outputs": [],
   "source": [
    "for count , i in enumerate(consumer):\n",
    "    with s3.open(\"s3://kafka-stock-market-boufangha/stock_market_{}.json\".format(count), 'w') as file :\n",
    "        json.dump(i.value,file)"
   ]
  }
 ],
 "metadata": {
  "kernelspec": {
   "display_name": "Python 3 (ipykernel)",
   "language": "python",
   "name": "python3"
  },
  "language_info": {
   "codemirror_mode": {
    "name": "ipython",
    "version": 3
   },
   "file_extension": ".py",
   "mimetype": "text/x-python",
   "name": "python",
   "nbconvert_exporter": "python",
   "pygments_lexer": "ipython3",
   "version": "3.11.2"
  }
 },
 "nbformat": 4,
 "nbformat_minor": 5
}
